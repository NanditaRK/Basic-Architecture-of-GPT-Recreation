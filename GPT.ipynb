{
  "nbformat": 4,
  "nbformat_minor": 0,
  "metadata": {
    "colab": {
      "provenance": [],
      "gpuType": "T4"
    },
    "kernelspec": {
      "name": "python3",
      "display_name": "Python 3"
    },
    "language_info": {
      "name": "python"
    },
    "accelerator": "GPU"
  },
  "cells": [
    {
      "cell_type": "code",
      "source": [
        "from transformers import AutoTokenizer\n",
        "import torch.nn as nn\n",
        "import torch.nn.functional as F\n",
        "import torch\n",
        "import numpy as np\n",
        "import math\n",
        "import random\n",
        "import torch.optim as optim\n",
        "\n"
      ],
      "metadata": {
        "id": "UyhAiylRk4K7"
      },
      "execution_count": 12,
      "outputs": []
    },
    {
      "cell_type": "code",
      "execution_count": 13,
      "metadata": {
        "colab": {
          "base_uri": "https://localhost:8080/"
        },
        "id": "4TBJxm1qdfcf",
        "outputId": "5f21b614-6b08-4b10-9a6d-326e19f6ea6f"
      },
      "outputs": [
        {
          "output_type": "execute_result",
          "data": {
            "text/plain": [
              "tensor([[6983,  544,  246, 2720,  525,  544, 1250,  498,  481, 6373, 5487,  498,\n",
              "         6056,  239]])"
            ]
          },
          "metadata": {},
          "execution_count": 13
        }
      ],
      "source": [
        "# gpt paper recreation with attention is all you need paper basics\n",
        "\n",
        "\n",
        "tokenizer = AutoTokenizer.from_pretrained(\"openai-community/openai-gpt\")\n",
        "tokenized = tokenizer.encode(\"California is a state that is part of the United States of America.\", return_tensors=\"pt\")\n",
        "\n",
        "tokenized\n",
        "\n"
      ]
    },
    {
      "cell_type": "code",
      "source": [
        "# embeddings\n",
        "class EmbeddingModel(nn.Module):\n",
        "  def __init__(self, vocab_size, embedding_dim, max_seq_len):\n",
        "    super().__init__()\n",
        "    self.token_embedding = nn.Embedding(vocab_size, embedding_dim)\n",
        "    self.position_embedding = nn.Embedding(max_seq_len, embedding_dim)\n",
        "  def forward(self, input_ids):\n",
        "    # B = batches of tokens\n",
        "    # T = number of tokens in batch\n",
        "   B, T = input_ids.shape\n",
        "\n",
        "   device = input_ids.device\n",
        "   positions = torch.arange(0, T, device=device).unsqueeze(0)  # (1, T) sets the batch number to one\n",
        "\n",
        "   tok = self.token_embedding(input_ids)   # (B, T, dim_model) where #dim_model is the vector size of the token\n",
        "   pos = self.position_embedding(positions)   # (1, T, dim_model) #T is the number of tokens as mentiuned before\n",
        "\n",
        "   return (tok + pos)     # (B, T, dim_model) i believe this is type broadcasting\n",
        "\n"
      ],
      "metadata": {
        "id": "WnEZvxJCdinX"
      },
      "execution_count": 21,
      "outputs": []
    },
    {
      "cell_type": "code",
      "source": [],
      "metadata": {
        "id": "CWXbr9MUjxxh"
      },
      "execution_count": 14,
      "outputs": []
    },
    {
      "cell_type": "code",
      "source": [
        "\n",
        "class MultiHeadAttention(nn.Module):\n",
        "    def __init__(self, model_dim, num_heads):\n",
        "        super().__init__()\n",
        "        assert model_dim % num_heads == 0, \"model_dim must be divisible by num_heads\"\n",
        "\n",
        "        self.num_heads = num_heads\n",
        "        self.dim_k = model_dim // num_heads\n",
        "\n",
        "        # linear projections for Q, K, V\n",
        "        self.q_proj = nn.Linear(model_dim, model_dim)\n",
        "        self.k_proj = nn.Linear(model_dim, model_dim)\n",
        "        self.v_proj = nn.Linear(model_dim, model_dim)\n",
        "\n",
        "        # final linear layer to recombine heads\n",
        "        self.out_proj = nn.Linear(model_dim, model_dim)\n",
        "\n",
        "    def forward(self, x, mask=None):\n",
        "        batch_size, seq_len, model_dim = x.size()\n",
        "\n",
        "        # projecting inputs to Q, K, V\n",
        "        Q = self.q_proj(x)  # (batch, seq_len, model_dim)\n",
        "        K = self.k_proj(x)\n",
        "        V = self.v_proj(x)\n",
        "\n",
        "        #reshape to (batch, num_heads, seq_len, dim_k) to split into different heads\n",
        "        #so first we have allbatches in parralled within those batches we have all\n",
        "        #heads in parallel and each head has size row x column of num_token by dim of vector\n",
        "\n",
        "        Q = Q.view(batch_size, seq_len, self.num_heads, self.dim_k).transpose(1, 2)\n",
        "        K = K.view(batch_size, seq_len, self.num_heads, self.dim_k).transpose(1, 2)\n",
        "        V = V.view(batch_size, seq_len, self.num_heads, self.dim_k).transpose(1, 2)\n",
        "\n",
        "        #compute scaled dot-product attention\n",
        "        scores = torch.matmul(Q, K.transpose(-2, -1)) / math.sqrt(self.dim_k)\n",
        "        if mask is not None:\n",
        "            scores = scores.masked_fill(mask == 0, float('-inf'))\n",
        "        attn = F.softmax(scores, dim=-1)\n",
        "        context = torch.matmul(attn, V)  # (batch, heads, seq_len, dim_k)\n",
        "\n",
        "        # concatenate heads and project\n",
        "        context = context.transpose(1, 2).contiguous().view(batch_size, seq_len, model_dim)\n",
        "        output = self.out_proj(context)  #(batch, seq_len, model_dim)\n",
        "\n",
        "        return output\n"
      ],
      "metadata": {
        "id": "JYkjEI5iecaA"
      },
      "execution_count": 15,
      "outputs": []
    },
    {
      "cell_type": "code",
      "source": [
        "class MLP(nn.Module):\n",
        "  def __init__(self, model_dim, hidden_layer=2048):\n",
        "    super().__init__()\n",
        "    self.l1 = nn.Linear(model_dim, hidden_layer)\n",
        "    self.l2 = nn.Linear(hidden_layer, model_dim)\n",
        "    self.relu = nn.ReLU()\n",
        "\n",
        "  def forward(self, x):\n",
        "    x = self.l1(x)\n",
        "    x = self.relu(x)\n",
        "    x = self.l2(x)\n",
        "\n",
        "    return x\n"
      ],
      "metadata": {
        "id": "2umTKK5Nedx6"
      },
      "execution_count": 16,
      "outputs": []
    },
    {
      "cell_type": "code",
      "source": [
        "class TransformerBlock(nn.Module):\n",
        "    def __init__(self, model_dim, num_heads, mlp_hidden_dim=2048):\n",
        "        super().__init__()\n",
        "\n",
        "        #multi head attention\n",
        "        self.mha = MultiHeadAttention(model_dim, num_heads)\n",
        "\n",
        "        #layer norms\n",
        "        self.norm1 = nn.LayerNorm(model_dim)\n",
        "        self.norm2 = nn.LayerNorm(model_dim)\n",
        "\n",
        "        #mlp layer\n",
        "        self.mlp = MLP(model_dim, hidden_layer=mlp_hidden_dim)\n",
        "\n",
        "    def forward(self, x, mask=None):\n",
        "        #multi-head attention with residual + layernorm\n",
        "        attn_out = self.mha(x, mask=mask)\n",
        "        x = self.norm1(x + attn_out)\n",
        "\n",
        "        #feedforward  residual + layernorm\n",
        "        mlp_out = self.mlp(x)\n",
        "        x = self.norm2(x + mlp_out)\n",
        "\n",
        "        return x\n",
        ""
      ],
      "metadata": {
        "id": "Gtb2skguoasz"
      },
      "execution_count": 17,
      "outputs": []
    },
    {
      "cell_type": "code",
      "source": [
        "\n",
        "\n",
        "class GPT(nn.Module):\n",
        "    def __init__(self, vocab_size, model_dim, max_tokens, num_heads, num_layers, mlp_hidden_dim=None):\n",
        "        super().__init__()\n",
        "\n",
        "        if mlp_hidden_dim is None:\n",
        "            mlp_hidden_dim = 4 * model_dim  # GPT default\n",
        "\n",
        "        #embedding\n",
        "        self.embedding = EmbeddingModel(vocab_size, model_dim, max_tokens)\n",
        "\n",
        "        #transformer block stack\n",
        "        self.blocks = nn.ModuleList([\n",
        "            TransformerBlock(model_dim, num_heads, mlp_hidden_dim)\n",
        "            for _ in range(num_layers)\n",
        "        ])\n",
        "\n",
        "        #final linear layer to project to vocab size\n",
        "        self.lm_head = nn.Linear(model_dim, vocab_size, bias=False)\n",
        "\n",
        "    def forward(self, input_ids):\n",
        "        B, T = input_ids.shape\n",
        "\n",
        "        #fmbedding\n",
        "        x = self.embedding(input_ids)  # (B, T, model_dim)\n",
        "\n",
        "        #causal mask\n",
        "        mask = torch.tril(torch.ones(T, T, device=input_ids.device)).unsqueeze(0).unsqueeze(0)\n",
        "        # shape: (1, 1, T, T), broadcast over batch and heads\n",
        "\n",
        "        #pass through transformer blocks\n",
        "        for block in self.blocks:\n",
        "            x = block(x, mask=mask)\n",
        "\n",
        "        #project to vocab logits\n",
        "        logits = self.lm_head(x)  # (B, T, vocab_size)\n",
        "\n",
        "        return logits\n"
      ],
      "metadata": {
        "id": "feviAEIhhCEH"
      },
      "execution_count": 18,
      "outputs": []
    },
    {
      "cell_type": "code",
      "source": [
        "vocab_size = len(tokenizer)\n",
        "model_dim = 128 #768\n",
        "max_tokens = 512 #70000\n",
        "num_heads = 4 #12\n",
        "num_layers = 2 #12\n",
        "max_seq_len = 20\n",
        "gpt = GPT(vocab_size, model_dim, max_tokens, num_heads, num_layers)\n",
        "\n",
        "input_ids = torch.randint(0, vocab_size, (2, 20))  # batch=2, seq_len=20\n",
        "logits = gpt(input_ids)\n",
        "print(logits.shape)  # (2, 20, 40000 smth)\n"
      ],
      "metadata": {
        "colab": {
          "base_uri": "https://localhost:8080/"
        },
        "id": "q6myhwpghlA2",
        "outputId": "66d32575-badc-44e8-c99a-de009b2f6268"
      },
      "execution_count": 22,
      "outputs": [
        {
          "output_type": "stream",
          "name": "stdout",
          "text": [
            "torch.Size([2, 20, 40478])\n"
          ]
        }
      ]
    },
    {
      "cell_type": "code",
      "source": [
        "batch_size = 2\n",
        "epochs = 5\n",
        "\n",
        "\n",
        "data = tokenizer.encode(open(\"names.txt\").read())\n",
        "data = torch.tensor(data, dtype=torch.long)\n",
        "\n",
        "#split into sequences of length seq_len+1\n",
        "seq_len = max_seq_len\n",
        "examples = []\n",
        "for i in range(0, len(data) - seq_len):\n",
        "    chunk = data[i:i + seq_len + 1]\n",
        "    examples.append(chunk)\n",
        "\n",
        "device = \"cuda\" if torch.cuda.is_available() else \"cpu\"\n",
        "gpt.to(device)\n",
        "\n",
        "criterion = nn.CrossEntropyLoss()\n",
        "optimizer = optim.AdamW(gpt.parameters(), lr=1e-4)\n",
        "\n",
        "\n",
        "\n",
        "for epoch in range(epochs):\n",
        "    random.shuffle(examples)  # shuffle sequences each epoch\n",
        "    for i in range(0, len(examples), batch_size):\n",
        "        batch = examples[i:i+batch_size]\n",
        "        batch = torch.stack(batch).to(device)  # (B, seq_len+1)\n",
        "\n",
        "        input_ids = batch[:, :-1]   # (B, seq_len)\n",
        "        target_ids = batch[:, 1:]   # (B, seq_len)\n",
        "\n",
        "        optimizer.zero_grad()\n",
        "        logits = gpt(input_ids)     # (B, seq_len, vocab_size)\n",
        "\n",
        "        loss = criterion(logits.reshape(-1, vocab_size), target_ids.reshape(-1))\n",
        "        loss.backward()\n",
        "        optimizer.step()\n",
        "\n",
        "    print(f\"Epoch {epoch+1} | Loss: {loss.item():.4f}\")\n"
      ],
      "metadata": {
        "colab": {
          "base_uri": "https://localhost:8080/"
        },
        "id": "bzVL1Q-IhYxG",
        "outputId": "bc574292-5293-4db4-f229-fd66ae6e3d85"
      },
      "execution_count": 23,
      "outputs": [
        {
          "output_type": "stream",
          "name": "stderr",
          "text": [
            "Token indices sequence length is longer than the specified maximum sequence length for this model (69028 > 512). Running this sequence through the model will result in indexing errors\n"
          ]
        },
        {
          "output_type": "stream",
          "name": "stdout",
          "text": [
            "Epoch 1 | Loss: 4.0593\n",
            "Epoch 2 | Loss: 2.5089\n",
            "Epoch 3 | Loss: 1.6375\n",
            "Epoch 4 | Loss: 0.5798\n",
            "Epoch 5 | Loss: 0.9789\n",
            "Epoch 6 | Loss: 0.4549\n",
            "Epoch 7 | Loss: 0.6494\n",
            "Epoch 8 | Loss: 0.5760\n",
            "Epoch 9 | Loss: 0.4415\n",
            "Epoch 10 | Loss: 0.5760\n"
          ]
        }
      ]
    },
    {
      "cell_type": "code",
      "source": [
        "torch.save(gpt.state_dict(), \"gpt_weights.pth\")"
      ],
      "metadata": {
        "id": "jlynUXtYBxka"
      },
      "execution_count": 25,
      "outputs": []
    },
    {
      "cell_type": "code",
      "source": [
        "torch.save(gpt, \"gpt_full_model.pth\")\n"
      ],
      "metadata": {
        "id": "2daXSynwB482"
      },
      "execution_count": 26,
      "outputs": []
    },
    {
      "cell_type": "code",
      "source": [
        "\n",
        "\n",
        "@torch.no_grad()\n",
        "def generate_text(model, tokenizer, input_text, max_new_tokens=50, temperature=1.0, top_k=None):\n",
        "\n",
        "    model.eval()\n",
        "\n",
        "\n",
        "    input_ids = tokenizer.encode(input_text, return_tensors=\"pt\")\n",
        "    input_ids = input_ids.to(next(model.parameters()).device)\n",
        "\n",
        "    for _ in range(max_new_tokens):\n",
        "\n",
        "        logits = model(input_ids)               # (1, seq_len, vocab_size)\n",
        "        logits = logits[:, -1, :] / temperature # focus on last token\n",
        "\n",
        "\n",
        "        if top_k is not None:\n",
        "            top_vals, top_idx = torch.topk(logits, top_k)\n",
        "            probs = torch.zeros_like(logits).scatter_(1, top_idx, F.softmax(top_vals, dim=-1))\n",
        "        else:\n",
        "            probs = F.softmax(logits, dim=-1)\n",
        "\n",
        "\n",
        "        next_token = torch.multinomial(probs, num_samples=1)  # (1, 1)\n",
        "\n",
        "\n",
        "        input_ids = torch.cat([input_ids, next_token], dim=1)\n",
        "\n",
        "    output_text = tokenizer.decode(input_ids[0].tolist())\n",
        "    return output_text\n"
      ],
      "metadata": {
        "id": "rSxRvGDGhGtm"
      },
      "execution_count": 29,
      "outputs": []
    },
    {
      "cell_type": "code",
      "source": [
        "generate_text(gpt, tokenizer, \"nandita\")"
      ],
      "metadata": {
        "colab": {
          "base_uri": "https://localhost:8080/",
          "height": 53
        },
        "id": "gi0SnZ7hB6mu",
        "outputId": "05dd79bb-ace6-4cfa-97a8-9552d8e69e0e"
      },
      "execution_count": 28,
      "outputs": [
        {
          "output_type": "execute_result",
          "data": {
            "text/plain": [
              "'nandita layani lahera lorkallin meefa zjadalyn jailay jaiyon talaai jakia aeijazmarie jazanna jadee jazlett jerneoma jren a jalimhir jamere jaela jaide jino ja'"
            ],
            "application/vnd.google.colaboratory.intrinsic+json": {
              "type": "string"
            }
          },
          "metadata": {},
          "execution_count": 28
        }
      ]
    }
  ]
}
